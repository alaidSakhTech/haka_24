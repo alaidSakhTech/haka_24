{
 "cells": [
  {
   "cell_type": "markdown",
   "metadata": {},
   "source": [
    "### ЗАГРУЖАЕМ ДАТАСЕТ"
   ]
  },
  {
   "cell_type": "code",
   "execution_count": 2,
   "metadata": {},
   "outputs": [
    {
     "name": "stderr",
     "output_type": "stream",
     "text": [
      "f:\\projects\\python_projects\\hakaton2024\\haka_venv\\Lib\\site-packages\\tqdm\\auto.py:21: TqdmWarning: IProgress not found. Please update jupyter and ipywidgets. See https://ipywidgets.readthedocs.io/en/stable/user_install.html\n",
      "  from .autonotebook import tqdm as notebook_tqdm\n"
     ]
    },
    {
     "name": "stdout",
     "output_type": "stream",
     "text": [
      "Downloading from https://www.kaggle.com/api/v1/datasets/download/samygrisard/finder-patterns-qr-code?dataset_version_number=3...\n"
     ]
    },
    {
     "name": "stderr",
     "output_type": "stream",
     "text": [
      "100%|██████████| 180M/180M [00:17<00:00, 11.0MB/s] "
     ]
    },
    {
     "name": "stdout",
     "output_type": "stream",
     "text": [
      "Extracting files...\n"
     ]
    },
    {
     "name": "stderr",
     "output_type": "stream",
     "text": [
      "\n"
     ]
    },
    {
     "name": "stdout",
     "output_type": "stream",
     "text": [
      "Path to dataset files: C:\\Users\\Эльдар\\.cache\\kagglehub\\datasets\\samygrisard\\finder-patterns-qr-code\\versions\\3\n"
     ]
    }
   ],
   "source": [
    "import kagglehub\n",
    "\n",
    "# Download latest version\n",
    "path = kagglehub.dataset_download(\"samygrisard/finder-patterns-qr-code\")\n",
    "\n",
    "print(\"Path to dataset files:\", path)"
   ]
  },
  {
   "cell_type": "code",
   "execution_count": 1,
   "metadata": {},
   "outputs": [
    {
     "name": "stdout",
     "output_type": "stream",
     "text": [
      "Файлы успешно разделены на train и val.\n"
     ]
    }
   ],
   "source": [
    "import os\n",
    "import shutil\n",
    "from sklearn.model_selection import train_test_split\n",
    "\n",
    "# Укажите базовую директорию\n",
    "base_dir = \"./dataset2\"\n",
    "images_dir = os.path.join(base_dir, \"images\")\n",
    "labels_dir = os.path.join(base_dir, \"labels\")\n",
    "\n",
    "# Папки для train и val\n",
    "train_images_dir = os.path.join(base_dir, \"images/train\")\n",
    "train_labels_dir = os.path.join(base_dir, \"labels/train\")\n",
    "val_images_dir = os.path.join(base_dir, \"images/val\")\n",
    "val_labels_dir = os.path.join(base_dir, \"labels/val\")\n",
    "\n",
    "# Создание папок train и val\n",
    "os.makedirs(train_images_dir, exist_ok=True)\n",
    "os.makedirs(train_labels_dir, exist_ok=True)\n",
    "os.makedirs(val_images_dir, exist_ok=True)\n",
    "os.makedirs(val_labels_dir, exist_ok=True)\n",
    "\n",
    "# Получение списков файлов\n",
    "image_files = sorted([f for f in os.listdir(images_dir) if f.endswith(\".jpg\")])\n",
    "label_files = sorted([f for f in os.listdir(labels_dir) if f.endswith(\".txt\")])\n",
    "\n",
    "# Убедимся, что количество файлов совпадает\n",
    "if len(image_files) != len(label_files):\n",
    "    raise ValueError(\"Количество изображений и меток не совпадает!\")\n",
    "\n",
    "# Разделение на train и val\n",
    "train_images, val_images, train_labels, val_labels = train_test_split(\n",
    "    image_files, label_files, test_size=0.2, random_state=42\n",
    ")\n",
    "\n",
    "# Перемещение файлов\n",
    "for img_file, lbl_file in zip(train_images, train_labels):\n",
    "    shutil.move(os.path.join(images_dir, img_file), os.path.join(train_images_dir, img_file))\n",
    "    shutil.move(os.path.join(labels_dir, lbl_file), os.path.join(train_labels_dir, lbl_file))\n",
    "\n",
    "for img_file, lbl_file in zip(val_images, val_labels):\n",
    "    shutil.move(os.path.join(images_dir, img_file), os.path.join(val_images_dir, img_file))\n",
    "    shutil.move(os.path.join(labels_dir, lbl_file), os.path.join(val_labels_dir, lbl_file))\n",
    "\n",
    "print(\"Файлы успешно разделены на train и val.\")\n"
   ]
  },
  {
   "cell_type": "code",
   "execution_count": 5,
   "metadata": {},
   "outputs": [
    {
     "name": "stdout",
     "output_type": "stream",
     "text": [
      "Sat Dec 21 04:17:12 2024       \n",
      "+-----------------------------------------------------------------------------+\n",
      "| NVIDIA-SMI 472.12       Driver Version: 472.12       CUDA Version: 11.4     |\n",
      "|-------------------------------+----------------------+----------------------+\n",
      "| GPU  Name            TCC/WDDM | Bus-Id        Disp.A | Volatile Uncorr. ECC |\n",
      "| Fan  Temp  Perf  Pwr:Usage/Cap|         Memory-Usage | GPU-Util  Compute M. |\n",
      "|                               |                      |               MIG M. |\n",
      "|===============================+======================+======================|\n",
      "|   0  NVIDIA GeForce ... WDDM  | 00000000:02:00.0  On |                  N/A |\n",
      "| 56%   46C    P2    75W / 310W |   8139MiB /  8192MiB |      6%      Default |\n",
      "|                               |                      |                  N/A |\n",
      "+-------------------------------+----------------------+----------------------+\n",
      "                                                                               \n",
      "+-----------------------------------------------------------------------------+\n",
      "| Processes:                                                                  |\n",
      "|  GPU   GI   CI        PID   Type   Process name                  GPU Memory |\n",
      "|        ID   ID                                                   Usage      |\n",
      "|=============================================================================|\n",
      "|    0   N/A  N/A      2824    C+G   Insufficient Permissions        N/A      |\n",
      "|    0   N/A  N/A      7484    C+G   ...me\\Application\\chrome.exe    N/A      |\n",
      "|    0   N/A  N/A      7812    C+G   ...y\\ShellExperienceHost.exe    N/A      |\n",
      "|    0   N/A  N/A      8364    C+G   ...4__8wekyb3d8bbwe\\Time.exe    N/A      |\n",
      "|    0   N/A  N/A     13768    C+G   ...icrosoft VS Code\\Code.exe    N/A      |\n",
      "|    0   N/A  N/A     19592    C+G   C:\\Windows\\explorer.exe         N/A      |\n",
      "|    0   N/A  N/A     22060    C+G   ...wekyb3d8bbwe\\Music.UI.exe    N/A      |\n",
      "|    0   N/A  N/A     23496    C+G   ...artMenuExperienceHost.exe    N/A      |\n",
      "|    0   N/A  N/A     24932    C+G   Insufficient Permissions        N/A      |\n",
      "|    0   N/A  N/A     25764    C+G   ...zilla Firefox\\firefox.exe    N/A      |\n",
      "|    0   N/A  N/A     27096    C+G   ...zilla Firefox\\firefox.exe    N/A      |\n",
      "|    0   N/A  N/A     28616      C   F:\\python\\python.exe            N/A      |\n",
      "|    0   N/A  N/A     31512    C+G   ...5n1h2txyewy\\SearchApp.exe    N/A      |\n",
      "|    0   N/A  N/A     34444    C+G   ...nputApp\\TextInputHost.exe    N/A      |\n",
      "|    0   N/A  N/A     37884    C+G   ...me\\Application\\chrome.exe    N/A      |\n",
      "+-----------------------------------------------------------------------------+\n"
     ]
    }
   ],
   "source": [
    "!nvidia-smi"
   ]
  },
  {
   "cell_type": "code",
   "execution_count": 1,
   "metadata": {},
   "outputs": [
    {
     "name": "stdout",
     "output_type": "stream",
     "text": [
      "Ultralytics 8.3.52  Python-3.11.5 torch-2.5.1+cu118 CUDA:0 (NVIDIA GeForce RTX 3070 Ti, 8192MiB)\n",
      "\u001b[34m\u001b[1mengine\\trainer: \u001b[0mtask=detect, mode=train, model=yolov8n.pt, data=dataset2/data.yaml, epochs=50, time=None, patience=100, batch=16, imgsz=640, save=True, save_period=-1, cache=False, device=None, workers=8, project=None, name=train2, exist_ok=False, pretrained=True, optimizer=auto, verbose=True, seed=0, deterministic=True, single_cls=False, rect=False, cos_lr=False, close_mosaic=10, resume=False, amp=True, fraction=1.0, profile=False, freeze=None, multi_scale=False, overlap_mask=True, mask_ratio=4, dropout=0.0, val=True, split=val, save_json=False, save_hybrid=False, conf=None, iou=0.7, max_det=300, half=False, dnn=False, plots=True, source=None, vid_stride=1, stream_buffer=False, visualize=False, augment=False, agnostic_nms=False, classes=None, retina_masks=False, embed=None, show=False, save_frames=False, save_txt=False, save_conf=False, save_crop=False, show_labels=True, show_conf=True, show_boxes=True, line_width=None, format=torchscript, keras=False, optimize=False, int8=False, dynamic=False, simplify=True, opset=None, workspace=None, nms=False, lr0=0.01, lrf=0.01, momentum=0.937, weight_decay=0.0005, warmup_epochs=3.0, warmup_momentum=0.8, warmup_bias_lr=0.1, box=7.5, cls=0.5, dfl=1.5, pose=12.0, kobj=1.0, nbs=64, hsv_h=0.015, hsv_s=0.7, hsv_v=0.4, degrees=0.0, translate=0.1, scale=0.5, shear=0.0, perspective=0.0, flipud=0.0, fliplr=0.5, bgr=0.0, mosaic=1.0, mixup=0.0, copy_paste=0.0, copy_paste_mode=flip, auto_augment=randaugment, erasing=0.4, crop_fraction=1.0, cfg=None, tracker=botsort.yaml, save_dir=runs\\detect\\train2\n",
      "Overriding model.yaml nc=80 with nc=1\n",
      "\n",
      "                   from  n    params  module                                       arguments                     \n",
      "  0                  -1  1       464  ultralytics.nn.modules.conv.Conv             [3, 16, 3, 2]                 \n",
      "  1                  -1  1      4672  ultralytics.nn.modules.conv.Conv             [16, 32, 3, 2]                \n",
      "  2                  -1  1      7360  ultralytics.nn.modules.block.C2f             [32, 32, 1, True]             \n",
      "  3                  -1  1     18560  ultralytics.nn.modules.conv.Conv             [32, 64, 3, 2]                \n",
      "  4                  -1  2     49664  ultralytics.nn.modules.block.C2f             [64, 64, 2, True]             \n",
      "  5                  -1  1     73984  ultralytics.nn.modules.conv.Conv             [64, 128, 3, 2]               \n",
      "  6                  -1  2    197632  ultralytics.nn.modules.block.C2f             [128, 128, 2, True]           \n",
      "  7                  -1  1    295424  ultralytics.nn.modules.conv.Conv             [128, 256, 3, 2]              \n",
      "  8                  -1  1    460288  ultralytics.nn.modules.block.C2f             [256, 256, 1, True]           \n",
      "  9                  -1  1    164608  ultralytics.nn.modules.block.SPPF            [256, 256, 5]                 \n",
      " 10                  -1  1         0  torch.nn.modules.upsampling.Upsample         [None, 2, 'nearest']          \n",
      " 11             [-1, 6]  1         0  ultralytics.nn.modules.conv.Concat           [1]                           \n",
      " 12                  -1  1    148224  ultralytics.nn.modules.block.C2f             [384, 128, 1]                 \n",
      " 13                  -1  1         0  torch.nn.modules.upsampling.Upsample         [None, 2, 'nearest']          \n",
      " 14             [-1, 4]  1         0  ultralytics.nn.modules.conv.Concat           [1]                           \n",
      " 15                  -1  1     37248  ultralytics.nn.modules.block.C2f             [192, 64, 1]                  \n",
      " 16                  -1  1     36992  ultralytics.nn.modules.conv.Conv             [64, 64, 3, 2]                \n",
      " 17            [-1, 12]  1         0  ultralytics.nn.modules.conv.Concat           [1]                           \n",
      " 18                  -1  1    123648  ultralytics.nn.modules.block.C2f             [192, 128, 1]                 \n",
      " 19                  -1  1    147712  ultralytics.nn.modules.conv.Conv             [128, 128, 3, 2]              \n",
      " 20             [-1, 9]  1         0  ultralytics.nn.modules.conv.Concat           [1]                           \n",
      " 21                  -1  1    493056  ultralytics.nn.modules.block.C2f             [384, 256, 1]                 \n",
      " 22        [15, 18, 21]  1    751507  ultralytics.nn.modules.head.Detect           [1, [64, 128, 256]]           \n",
      "Model summary: 225 layers, 3,011,043 parameters, 3,011,027 gradients, 8.2 GFLOPs\n",
      "\n",
      "Transferred 319/355 items from pretrained weights\n",
      "Freezing layer 'model.22.dfl.conv.weight'\n",
      "\u001b[34m\u001b[1mAMP: \u001b[0mrunning Automatic Mixed Precision (AMP) checks...\n",
      "\u001b[34m\u001b[1mAMP: \u001b[0mchecks passed \n"
     ]
    },
    {
     "name": "stderr",
     "output_type": "stream",
     "text": [
      "\u001b[34m\u001b[1mtrain: \u001b[0mScanning F:\\projects\\python_projects\\hakaton2024\\dataset2\\labels\\train.cache... 449 images, 0 backgrounds, 0 corrupt: 100%|██████████| 449/449 [00:00<?, ?it/s]\n",
      "\u001b[34m\u001b[1mval: \u001b[0mScanning F:\\projects\\python_projects\\hakaton2024\\dataset2\\labels\\val.cache... 113 images, 0 backgrounds, 0 corrupt: 100%|██████████| 113/113 [00:00<?, ?it/s]\n"
     ]
    },
    {
     "name": "stdout",
     "output_type": "stream",
     "text": [
      "Plotting labels to runs\\detect\\train2\\labels.jpg... \n",
      "\u001b[34m\u001b[1moptimizer:\u001b[0m 'optimizer=auto' found, ignoring 'lr0=0.01' and 'momentum=0.937' and determining best 'optimizer', 'lr0' and 'momentum' automatically... \n",
      "\u001b[34m\u001b[1moptimizer:\u001b[0m AdamW(lr=0.002, momentum=0.9) with parameter groups 57 weight(decay=0.0), 64 weight(decay=0.0005), 63 bias(decay=0.0)\n",
      "Image sizes 640 train, 640 val\n",
      "Using 8 dataloader workers\n",
      "Logging results to \u001b[1mruns\\detect\\train2\u001b[0m\n",
      "Starting training for 50 epochs...\n",
      "\n",
      "      Epoch    GPU_mem   box_loss   cls_loss   dfl_loss  Instances       Size\n"
     ]
    },
    {
     "name": "stderr",
     "output_type": "stream",
     "text": [
      "       1/50      2.52G      1.249      2.199       1.55          2        640: 100%|██████████| 29/29 [00:06<00:00,  4.37it/s]\n",
      "                 Class     Images  Instances      Box(P          R      mAP50  mAP50-95): 100%|██████████| 4/4 [00:01<00:00,  3.75it/s]"
     ]
    },
    {
     "name": "stdout",
     "output_type": "stream",
     "text": [
      "                   all        113        299          1      0.247      0.533      0.354\n"
     ]
    },
    {
     "name": "stderr",
     "output_type": "stream",
     "text": [
      "\n"
     ]
    },
    {
     "name": "stdout",
     "output_type": "stream",
     "text": [
      "\n",
      "      Epoch    GPU_mem   box_loss   cls_loss   dfl_loss  Instances       Size\n"
     ]
    },
    {
     "name": "stderr",
     "output_type": "stream",
     "text": [
      "       2/50       2.4G     0.9949      1.319      1.251          1        640: 100%|██████████| 29/29 [00:04<00:00,  6.45it/s]\n",
      "                 Class     Images  Instances      Box(P          R      mAP50  mAP50-95): 100%|██████████| 4/4 [00:00<00:00,  4.25it/s]"
     ]
    },
    {
     "name": "stdout",
     "output_type": "stream",
     "text": [
      "                   all        113        299      0.531       0.28       0.32      0.202\n"
     ]
    },
    {
     "name": "stderr",
     "output_type": "stream",
     "text": [
      "\n"
     ]
    },
    {
     "name": "stdout",
     "output_type": "stream",
     "text": [
      "\n",
      "      Epoch    GPU_mem   box_loss   cls_loss   dfl_loss  Instances       Size\n"
     ]
    },
    {
     "name": "stderr",
     "output_type": "stream",
     "text": [
      "       3/50      2.46G      1.047      1.163      1.249          4        640: 100%|██████████| 29/29 [00:04<00:00,  6.53it/s]\n",
      "                 Class     Images  Instances      Box(P          R      mAP50  mAP50-95): 100%|██████████| 4/4 [00:00<00:00,  4.29it/s]"
     ]
    },
    {
     "name": "stdout",
     "output_type": "stream",
     "text": [
      "                   all        113        299      0.843      0.599      0.657      0.433\n"
     ]
    },
    {
     "name": "stderr",
     "output_type": "stream",
     "text": [
      "\n"
     ]
    },
    {
     "name": "stdout",
     "output_type": "stream",
     "text": [
      "\n",
      "      Epoch    GPU_mem   box_loss   cls_loss   dfl_loss  Instances       Size\n"
     ]
    },
    {
     "name": "stderr",
     "output_type": "stream",
     "text": [
      "       4/50      2.72G      1.072      1.139      1.255          3        640: 100%|██████████| 29/29 [00:04<00:00,  6.48it/s]\n",
      "                 Class     Images  Instances      Box(P          R      mAP50  mAP50-95): 100%|██████████| 4/4 [00:00<00:00,  4.70it/s]"
     ]
    },
    {
     "name": "stdout",
     "output_type": "stream",
     "text": [
      "                   all        113        299      0.714      0.493      0.646      0.402\n"
     ]
    },
    {
     "name": "stderr",
     "output_type": "stream",
     "text": [
      "\n"
     ]
    },
    {
     "name": "stdout",
     "output_type": "stream",
     "text": [
      "\n",
      "      Epoch    GPU_mem   box_loss   cls_loss   dfl_loss  Instances       Size\n"
     ]
    },
    {
     "name": "stderr",
     "output_type": "stream",
     "text": [
      "       5/50      2.59G      1.034      1.024      1.257          6        640: 100%|██████████| 29/29 [00:04<00:00,  6.71it/s]\n",
      "                 Class     Images  Instances      Box(P          R      mAP50  mAP50-95): 100%|██████████| 4/4 [00:00<00:00,  4.42it/s]"
     ]
    },
    {
     "name": "stdout",
     "output_type": "stream",
     "text": [
      "                   all        113        299      0.617      0.749      0.776      0.528\n"
     ]
    },
    {
     "name": "stderr",
     "output_type": "stream",
     "text": [
      "\n"
     ]
    },
    {
     "name": "stdout",
     "output_type": "stream",
     "text": [
      "\n",
      "      Epoch    GPU_mem   box_loss   cls_loss   dfl_loss  Instances       Size\n"
     ]
    },
    {
     "name": "stderr",
     "output_type": "stream",
     "text": [
      "       6/50      2.52G     0.9945     0.9388      1.227          2        640: 100%|██████████| 29/29 [00:04<00:00,  6.81it/s]\n",
      "                 Class     Images  Instances      Box(P          R      mAP50  mAP50-95): 100%|██████████| 4/4 [00:00<00:00,  4.50it/s]"
     ]
    },
    {
     "name": "stdout",
     "output_type": "stream",
     "text": [
      "                   all        113        299      0.958       0.89       0.96      0.678\n"
     ]
    },
    {
     "name": "stderr",
     "output_type": "stream",
     "text": [
      "\n"
     ]
    },
    {
     "name": "stdout",
     "output_type": "stream",
     "text": [
      "\n",
      "      Epoch    GPU_mem   box_loss   cls_loss   dfl_loss  Instances       Size\n"
     ]
    },
    {
     "name": "stderr",
     "output_type": "stream",
     "text": [
      "       7/50      2.57G      1.052     0.8934      1.289          1        640: 100%|██████████| 29/29 [00:04<00:00,  6.60it/s]\n",
      "                 Class     Images  Instances      Box(P          R      mAP50  mAP50-95): 100%|██████████| 4/4 [00:00<00:00,  4.65it/s]"
     ]
    },
    {
     "name": "stdout",
     "output_type": "stream",
     "text": [
      "                   all        113        299       0.87      0.893      0.946      0.631\n"
     ]
    },
    {
     "name": "stderr",
     "output_type": "stream",
     "text": [
      "\n"
     ]
    },
    {
     "name": "stdout",
     "output_type": "stream",
     "text": [
      "\n",
      "      Epoch    GPU_mem   box_loss   cls_loss   dfl_loss  Instances       Size\n"
     ]
    },
    {
     "name": "stderr",
     "output_type": "stream",
     "text": [
      "       8/50      2.37G     0.9625      0.809       1.21          2        640: 100%|██████████| 29/29 [00:04<00:00,  6.56it/s]\n",
      "                 Class     Images  Instances      Box(P          R      mAP50  mAP50-95): 100%|██████████| 4/4 [00:00<00:00,  4.81it/s]"
     ]
    },
    {
     "name": "stdout",
     "output_type": "stream",
     "text": [
      "                   all        113        299      0.884      0.946      0.964      0.693\n"
     ]
    },
    {
     "name": "stderr",
     "output_type": "stream",
     "text": [
      "\n"
     ]
    },
    {
     "name": "stdout",
     "output_type": "stream",
     "text": [
      "\n",
      "      Epoch    GPU_mem   box_loss   cls_loss   dfl_loss  Instances       Size\n"
     ]
    },
    {
     "name": "stderr",
     "output_type": "stream",
     "text": [
      "       9/50       2.6G      0.941     0.7623      1.169          3        640: 100%|██████████| 29/29 [00:04<00:00,  6.86it/s]\n",
      "                 Class     Images  Instances      Box(P          R      mAP50  mAP50-95): 100%|██████████| 4/4 [00:00<00:00,  4.85it/s]"
     ]
    },
    {
     "name": "stdout",
     "output_type": "stream",
     "text": [
      "                   all        113        299      0.969      0.786       0.83      0.606\n"
     ]
    },
    {
     "name": "stderr",
     "output_type": "stream",
     "text": [
      "\n"
     ]
    },
    {
     "name": "stdout",
     "output_type": "stream",
     "text": [
      "\n",
      "      Epoch    GPU_mem   box_loss   cls_loss   dfl_loss  Instances       Size\n"
     ]
    },
    {
     "name": "stderr",
     "output_type": "stream",
     "text": [
      "      10/50      2.43G     0.9698      0.749      1.198          2        640: 100%|██████████| 29/29 [00:04<00:00,  6.67it/s]\n",
      "                 Class     Images  Instances      Box(P          R      mAP50  mAP50-95): 100%|██████████| 4/4 [00:00<00:00,  4.66it/s]"
     ]
    },
    {
     "name": "stdout",
     "output_type": "stream",
     "text": [
      "                   all        113        299      0.948      0.957      0.979      0.745\n"
     ]
    },
    {
     "name": "stderr",
     "output_type": "stream",
     "text": [
      "\n"
     ]
    },
    {
     "name": "stdout",
     "output_type": "stream",
     "text": [
      "\n",
      "      Epoch    GPU_mem   box_loss   cls_loss   dfl_loss  Instances       Size\n"
     ]
    },
    {
     "name": "stderr",
     "output_type": "stream",
     "text": [
      "      11/50      2.53G     0.9291      0.746      1.162          1        640: 100%|██████████| 29/29 [00:04<00:00,  6.57it/s]\n",
      "                 Class     Images  Instances      Box(P          R      mAP50  mAP50-95): 100%|██████████| 4/4 [00:00<00:00,  4.73it/s]"
     ]
    },
    {
     "name": "stdout",
     "output_type": "stream",
     "text": [
      "                   all        113        299      0.938      0.969      0.982      0.694\n"
     ]
    },
    {
     "name": "stderr",
     "output_type": "stream",
     "text": [
      "\n"
     ]
    },
    {
     "name": "stdout",
     "output_type": "stream",
     "text": [
      "\n",
      "      Epoch    GPU_mem   box_loss   cls_loss   dfl_loss  Instances       Size\n"
     ]
    },
    {
     "name": "stderr",
     "output_type": "stream",
     "text": [
      "      12/50      2.35G     0.8563     0.6562      1.154          2        640: 100%|██████████| 29/29 [00:04<00:00,  6.66it/s]\n",
      "                 Class     Images  Instances      Box(P          R      mAP50  mAP50-95): 100%|██████████| 4/4 [00:00<00:00,  4.75it/s]"
     ]
    },
    {
     "name": "stdout",
     "output_type": "stream",
     "text": [
      "                   all        113        299      0.911       0.96      0.971      0.729\n"
     ]
    },
    {
     "name": "stderr",
     "output_type": "stream",
     "text": [
      "\n"
     ]
    },
    {
     "name": "stdout",
     "output_type": "stream",
     "text": [
      "\n",
      "      Epoch    GPU_mem   box_loss   cls_loss   dfl_loss  Instances       Size\n"
     ]
    },
    {
     "name": "stderr",
     "output_type": "stream",
     "text": [
      "      13/50      2.34G     0.8643     0.6637      1.122          3        640: 100%|██████████| 29/29 [00:04<00:00,  6.74it/s]\n",
      "                 Class     Images  Instances      Box(P          R      mAP50  mAP50-95): 100%|██████████| 4/4 [00:00<00:00,  4.50it/s]"
     ]
    },
    {
     "name": "stdout",
     "output_type": "stream",
     "text": [
      "                   all        113        299       0.96      0.967      0.988       0.75\n"
     ]
    },
    {
     "name": "stderr",
     "output_type": "stream",
     "text": [
      "\n"
     ]
    },
    {
     "name": "stdout",
     "output_type": "stream",
     "text": [
      "\n",
      "      Epoch    GPU_mem   box_loss   cls_loss   dfl_loss  Instances       Size\n"
     ]
    },
    {
     "name": "stderr",
     "output_type": "stream",
     "text": [
      "      14/50      2.36G     0.8946     0.7312      1.134          1        640: 100%|██████████| 29/29 [00:04<00:00,  6.70it/s]\n",
      "                 Class     Images  Instances      Box(P          R      mAP50  mAP50-95): 100%|██████████| 4/4 [00:00<00:00,  4.91it/s]"
     ]
    },
    {
     "name": "stdout",
     "output_type": "stream",
     "text": [
      "                   all        113        299      0.986      0.976      0.994       0.75\n"
     ]
    },
    {
     "name": "stderr",
     "output_type": "stream",
     "text": [
      "\n"
     ]
    },
    {
     "name": "stdout",
     "output_type": "stream",
     "text": [
      "\n",
      "      Epoch    GPU_mem   box_loss   cls_loss   dfl_loss  Instances       Size\n"
     ]
    },
    {
     "name": "stderr",
     "output_type": "stream",
     "text": [
      "      15/50      2.54G      0.855     0.6344      1.118          5        640: 100%|██████████| 29/29 [00:04<00:00,  6.62it/s]\n",
      "                 Class     Images  Instances      Box(P          R      mAP50  mAP50-95): 100%|██████████| 4/4 [00:00<00:00,  4.62it/s]"
     ]
    },
    {
     "name": "stdout",
     "output_type": "stream",
     "text": [
      "                   all        113        299      0.928      0.992      0.984       0.75\n"
     ]
    },
    {
     "name": "stderr",
     "output_type": "stream",
     "text": [
      "\n"
     ]
    },
    {
     "name": "stdout",
     "output_type": "stream",
     "text": [
      "\n",
      "      Epoch    GPU_mem   box_loss   cls_loss   dfl_loss  Instances       Size\n"
     ]
    },
    {
     "name": "stderr",
     "output_type": "stream",
     "text": [
      "      16/50      2.43G     0.8278     0.6002      1.114          4        640: 100%|██████████| 29/29 [00:04<00:00,  6.87it/s]\n",
      "                 Class     Images  Instances      Box(P          R      mAP50  mAP50-95): 100%|██████████| 4/4 [00:00<00:00,  4.74it/s]"
     ]
    },
    {
     "name": "stdout",
     "output_type": "stream",
     "text": [
      "                   all        113        299       0.97      0.962      0.992      0.748\n"
     ]
    },
    {
     "name": "stderr",
     "output_type": "stream",
     "text": [
      "\n"
     ]
    },
    {
     "name": "stdout",
     "output_type": "stream",
     "text": [
      "\n",
      "      Epoch    GPU_mem   box_loss   cls_loss   dfl_loss  Instances       Size\n"
     ]
    },
    {
     "name": "stderr",
     "output_type": "stream",
     "text": [
      "      17/50      2.36G     0.8484     0.5905      1.125          4        640: 100%|██████████| 29/29 [00:04<00:00,  6.68it/s]\n",
      "                 Class     Images  Instances      Box(P          R      mAP50  mAP50-95): 100%|██████████| 4/4 [00:00<00:00,  4.82it/s]"
     ]
    },
    {
     "name": "stdout",
     "output_type": "stream",
     "text": [
      "                   all        113        299      0.967      0.993      0.993      0.741\n"
     ]
    },
    {
     "name": "stderr",
     "output_type": "stream",
     "text": [
      "\n"
     ]
    },
    {
     "name": "stdout",
     "output_type": "stream",
     "text": [
      "\n",
      "      Epoch    GPU_mem   box_loss   cls_loss   dfl_loss  Instances       Size\n"
     ]
    },
    {
     "name": "stderr",
     "output_type": "stream",
     "text": [
      "      18/50       2.4G     0.8495     0.5653      1.094          2        640: 100%|██████████| 29/29 [00:04<00:00,  6.71it/s]\n",
      "                 Class     Images  Instances      Box(P          R      mAP50  mAP50-95): 100%|██████████| 4/4 [00:00<00:00,  4.97it/s]"
     ]
    },
    {
     "name": "stdout",
     "output_type": "stream",
     "text": [
      "                   all        113        299      0.969      0.973      0.991      0.764\n"
     ]
    },
    {
     "name": "stderr",
     "output_type": "stream",
     "text": [
      "\n"
     ]
    },
    {
     "name": "stdout",
     "output_type": "stream",
     "text": [
      "\n",
      "      Epoch    GPU_mem   box_loss   cls_loss   dfl_loss  Instances       Size\n"
     ]
    },
    {
     "name": "stderr",
     "output_type": "stream",
     "text": [
      "      19/50      2.68G     0.8276     0.5587      1.114          4        640: 100%|██████████| 29/29 [00:04<00:00,  6.65it/s]\n",
      "                 Class     Images  Instances      Box(P          R      mAP50  mAP50-95): 100%|██████████| 4/4 [00:00<00:00,  4.72it/s]"
     ]
    },
    {
     "name": "stdout",
     "output_type": "stream",
     "text": [
      "                   all        113        299      0.974      0.988      0.993       0.76\n"
     ]
    },
    {
     "name": "stderr",
     "output_type": "stream",
     "text": [
      "\n"
     ]
    },
    {
     "name": "stdout",
     "output_type": "stream",
     "text": [
      "\n",
      "      Epoch    GPU_mem   box_loss   cls_loss   dfl_loss  Instances       Size\n"
     ]
    },
    {
     "name": "stderr",
     "output_type": "stream",
     "text": [
      "      20/50      2.57G     0.8186     0.5562      1.081          2        640: 100%|██████████| 29/29 [00:04<00:00,  6.60it/s]\n",
      "                 Class     Images  Instances      Box(P          R      mAP50  mAP50-95): 100%|██████████| 4/4 [00:00<00:00,  4.97it/s]"
     ]
    },
    {
     "name": "stdout",
     "output_type": "stream",
     "text": [
      "                   all        113        299      0.983      0.983      0.993      0.779\n"
     ]
    },
    {
     "name": "stderr",
     "output_type": "stream",
     "text": [
      "\n"
     ]
    },
    {
     "name": "stdout",
     "output_type": "stream",
     "text": [
      "\n",
      "      Epoch    GPU_mem   box_loss   cls_loss   dfl_loss  Instances       Size\n"
     ]
    },
    {
     "name": "stderr",
     "output_type": "stream",
     "text": [
      "      21/50       2.8G     0.7986     0.5443      1.096          2        640: 100%|██████████| 29/29 [00:04<00:00,  6.70it/s]\n",
      "                 Class     Images  Instances      Box(P          R      mAP50  mAP50-95): 100%|██████████| 4/4 [00:00<00:00,  4.71it/s]"
     ]
    },
    {
     "name": "stdout",
     "output_type": "stream",
     "text": [
      "                   all        113        299       0.99       0.99      0.994      0.768\n"
     ]
    },
    {
     "name": "stderr",
     "output_type": "stream",
     "text": [
      "\n"
     ]
    },
    {
     "name": "stdout",
     "output_type": "stream",
     "text": [
      "\n",
      "      Epoch    GPU_mem   box_loss   cls_loss   dfl_loss  Instances       Size\n"
     ]
    },
    {
     "name": "stderr",
     "output_type": "stream",
     "text": [
      "      22/50      2.54G     0.7824     0.5185      1.091          5        640: 100%|██████████| 29/29 [00:04<00:00,  6.72it/s]\n",
      "                 Class     Images  Instances      Box(P          R      mAP50  mAP50-95): 100%|██████████| 4/4 [00:00<00:00,  4.88it/s]"
     ]
    },
    {
     "name": "stdout",
     "output_type": "stream",
     "text": [
      "                   all        113        299      0.976       0.98       0.99      0.758\n"
     ]
    },
    {
     "name": "stderr",
     "output_type": "stream",
     "text": [
      "\n"
     ]
    },
    {
     "name": "stdout",
     "output_type": "stream",
     "text": [
      "\n",
      "      Epoch    GPU_mem   box_loss   cls_loss   dfl_loss  Instances       Size\n"
     ]
    },
    {
     "name": "stderr",
     "output_type": "stream",
     "text": [
      "      23/50      2.42G     0.7707     0.5115      1.082          2        640: 100%|██████████| 29/29 [00:04<00:00,  6.77it/s]\n",
      "                 Class     Images  Instances      Box(P          R      mAP50  mAP50-95): 100%|██████████| 4/4 [00:00<00:00,  4.75it/s]"
     ]
    },
    {
     "name": "stdout",
     "output_type": "stream",
     "text": [
      "                   all        113        299      0.983       0.98      0.991       0.76\n"
     ]
    },
    {
     "name": "stderr",
     "output_type": "stream",
     "text": [
      "\n"
     ]
    },
    {
     "name": "stdout",
     "output_type": "stream",
     "text": [
      "\n",
      "      Epoch    GPU_mem   box_loss   cls_loss   dfl_loss  Instances       Size\n"
     ]
    },
    {
     "name": "stderr",
     "output_type": "stream",
     "text": [
      "      24/50      2.59G     0.7561     0.5024      1.072          4        640: 100%|██████████| 29/29 [00:04<00:00,  6.73it/s]\n",
      "                 Class     Images  Instances      Box(P          R      mAP50  mAP50-95): 100%|██████████| 4/4 [00:00<00:00,  4.78it/s]"
     ]
    },
    {
     "name": "stdout",
     "output_type": "stream",
     "text": [
      "                   all        113        299      0.983      0.993      0.992      0.803\n"
     ]
    },
    {
     "name": "stderr",
     "output_type": "stream",
     "text": [
      "\n"
     ]
    },
    {
     "name": "stdout",
     "output_type": "stream",
     "text": [
      "\n",
      "      Epoch    GPU_mem   box_loss   cls_loss   dfl_loss  Instances       Size\n"
     ]
    },
    {
     "name": "stderr",
     "output_type": "stream",
     "text": [
      "      25/50      2.47G     0.7546     0.4828      1.058          5        640: 100%|██████████| 29/29 [00:04<00:00,  6.84it/s]\n",
      "                 Class     Images  Instances      Box(P          R      mAP50  mAP50-95): 100%|██████████| 4/4 [00:00<00:00,  4.77it/s]"
     ]
    },
    {
     "name": "stdout",
     "output_type": "stream",
     "text": [
      "                   all        113        299      0.986       0.99      0.993      0.778\n"
     ]
    },
    {
     "name": "stderr",
     "output_type": "stream",
     "text": [
      "\n"
     ]
    },
    {
     "name": "stdout",
     "output_type": "stream",
     "text": [
      "\n",
      "      Epoch    GPU_mem   box_loss   cls_loss   dfl_loss  Instances       Size\n"
     ]
    },
    {
     "name": "stderr",
     "output_type": "stream",
     "text": [
      "      26/50      2.48G     0.7471     0.4946      1.057          8        640: 100%|██████████| 29/29 [00:04<00:00,  6.73it/s]\n",
      "                 Class     Images  Instances      Box(P          R      mAP50  mAP50-95): 100%|██████████| 4/4 [00:00<00:00,  4.95it/s]"
     ]
    },
    {
     "name": "stdout",
     "output_type": "stream",
     "text": [
      "                   all        113        299      0.993       0.99      0.995      0.794\n"
     ]
    },
    {
     "name": "stderr",
     "output_type": "stream",
     "text": [
      "\n"
     ]
    },
    {
     "name": "stdout",
     "output_type": "stream",
     "text": [
      "\n",
      "      Epoch    GPU_mem   box_loss   cls_loss   dfl_loss  Instances       Size\n"
     ]
    },
    {
     "name": "stderr",
     "output_type": "stream",
     "text": [
      "      27/50      2.41G     0.7369     0.4679      1.059          2        640: 100%|██████████| 29/29 [00:04<00:00,  6.71it/s]\n",
      "                 Class     Images  Instances      Box(P          R      mAP50  mAP50-95): 100%|██████████| 4/4 [00:00<00:00,  4.51it/s]"
     ]
    },
    {
     "name": "stdout",
     "output_type": "stream",
     "text": [
      "                   all        113        299      0.995      0.987      0.994      0.795\n"
     ]
    },
    {
     "name": "stderr",
     "output_type": "stream",
     "text": [
      "\n"
     ]
    },
    {
     "name": "stdout",
     "output_type": "stream",
     "text": [
      "\n",
      "      Epoch    GPU_mem   box_loss   cls_loss   dfl_loss  Instances       Size\n"
     ]
    },
    {
     "name": "stderr",
     "output_type": "stream",
     "text": [
      "      28/50      2.55G     0.7504     0.5004      1.049          2        640: 100%|██████████| 29/29 [00:04<00:00,  6.61it/s]\n",
      "                 Class     Images  Instances      Box(P          R      mAP50  mAP50-95): 100%|██████████| 4/4 [00:00<00:00,  4.82it/s]"
     ]
    },
    {
     "name": "stdout",
     "output_type": "stream",
     "text": [
      "                   all        113        299      0.993      0.995      0.994      0.752\n"
     ]
    },
    {
     "name": "stderr",
     "output_type": "stream",
     "text": [
      "\n"
     ]
    },
    {
     "name": "stdout",
     "output_type": "stream",
     "text": [
      "\n",
      "      Epoch    GPU_mem   box_loss   cls_loss   dfl_loss  Instances       Size\n"
     ]
    },
    {
     "name": "stderr",
     "output_type": "stream",
     "text": [
      "      29/50      2.54G     0.7827     0.4817      1.065          4        640: 100%|██████████| 29/29 [00:04<00:00,  6.68it/s]\n",
      "                 Class     Images  Instances      Box(P          R      mAP50  mAP50-95): 100%|██████████| 4/4 [00:00<00:00,  4.67it/s]"
     ]
    },
    {
     "name": "stdout",
     "output_type": "stream",
     "text": [
      "                   all        113        299      0.988       0.99      0.989      0.769\n"
     ]
    },
    {
     "name": "stderr",
     "output_type": "stream",
     "text": [
      "\n"
     ]
    },
    {
     "name": "stdout",
     "output_type": "stream",
     "text": [
      "\n",
      "      Epoch    GPU_mem   box_loss   cls_loss   dfl_loss  Instances       Size\n"
     ]
    },
    {
     "name": "stderr",
     "output_type": "stream",
     "text": [
      "      30/50      2.37G     0.7217     0.4544      1.062          3        640: 100%|██████████| 29/29 [00:04<00:00,  6.72it/s]\n",
      "                 Class     Images  Instances      Box(P          R      mAP50  mAP50-95): 100%|██████████| 4/4 [00:00<00:00,  4.74it/s]"
     ]
    },
    {
     "name": "stdout",
     "output_type": "stream",
     "text": [
      "                   all        113        299      0.983      0.977      0.991      0.791\n"
     ]
    },
    {
     "name": "stderr",
     "output_type": "stream",
     "text": [
      "\n"
     ]
    },
    {
     "name": "stdout",
     "output_type": "stream",
     "text": [
      "\n",
      "      Epoch    GPU_mem   box_loss   cls_loss   dfl_loss  Instances       Size\n"
     ]
    },
    {
     "name": "stderr",
     "output_type": "stream",
     "text": [
      "      31/50      2.41G     0.6814      0.435      1.035          4        640: 100%|██████████| 29/29 [00:04<00:00,  6.84it/s]\n",
      "                 Class     Images  Instances      Box(P          R      mAP50  mAP50-95): 100%|██████████| 4/4 [00:00<00:00,  4.82it/s]"
     ]
    },
    {
     "name": "stdout",
     "output_type": "stream",
     "text": [
      "                   all        113        299      0.986      0.993      0.992      0.793\n"
     ]
    },
    {
     "name": "stderr",
     "output_type": "stream",
     "text": [
      "\n"
     ]
    },
    {
     "name": "stdout",
     "output_type": "stream",
     "text": [
      "\n",
      "      Epoch    GPU_mem   box_loss   cls_loss   dfl_loss  Instances       Size\n"
     ]
    },
    {
     "name": "stderr",
     "output_type": "stream",
     "text": [
      "      32/50      2.56G     0.7409     0.4561      1.114          1        640: 100%|██████████| 29/29 [00:04<00:00,  6.77it/s]\n",
      "                 Class     Images  Instances      Box(P          R      mAP50  mAP50-95): 100%|██████████| 4/4 [00:00<00:00,  4.86it/s]"
     ]
    },
    {
     "name": "stdout",
     "output_type": "stream",
     "text": [
      "                   all        113        299      0.988       0.99       0.99      0.806\n"
     ]
    },
    {
     "name": "stderr",
     "output_type": "stream",
     "text": [
      "\n"
     ]
    },
    {
     "name": "stdout",
     "output_type": "stream",
     "text": [
      "\n",
      "      Epoch    GPU_mem   box_loss   cls_loss   dfl_loss  Instances       Size\n"
     ]
    },
    {
     "name": "stderr",
     "output_type": "stream",
     "text": [
      "      33/50      2.45G     0.6863     0.4261      1.017          3        640: 100%|██████████| 29/29 [00:04<00:00,  6.66it/s]\n",
      "                 Class     Images  Instances      Box(P          R      mAP50  mAP50-95): 100%|██████████| 4/4 [00:00<00:00,  4.72it/s]"
     ]
    },
    {
     "name": "stdout",
     "output_type": "stream",
     "text": [
      "                   all        113        299      0.988      0.987      0.992      0.802\n"
     ]
    },
    {
     "name": "stderr",
     "output_type": "stream",
     "text": [
      "\n"
     ]
    },
    {
     "name": "stdout",
     "output_type": "stream",
     "text": [
      "\n",
      "      Epoch    GPU_mem   box_loss   cls_loss   dfl_loss  Instances       Size\n"
     ]
    },
    {
     "name": "stderr",
     "output_type": "stream",
     "text": [
      "      34/50       2.4G       0.68     0.4316      1.047          4        640: 100%|██████████| 29/29 [00:04<00:00,  6.70it/s]\n",
      "                 Class     Images  Instances      Box(P          R      mAP50  mAP50-95): 100%|██████████| 4/4 [00:00<00:00,  4.92it/s]"
     ]
    },
    {
     "name": "stdout",
     "output_type": "stream",
     "text": [
      "                   all        113        299      0.993      0.997      0.994      0.786\n"
     ]
    },
    {
     "name": "stderr",
     "output_type": "stream",
     "text": [
      "\n"
     ]
    },
    {
     "name": "stdout",
     "output_type": "stream",
     "text": [
      "\n",
      "      Epoch    GPU_mem   box_loss   cls_loss   dfl_loss  Instances       Size\n"
     ]
    },
    {
     "name": "stderr",
     "output_type": "stream",
     "text": [
      "      35/50      2.39G     0.6826     0.4164      1.032          7        640: 100%|██████████| 29/29 [00:04<00:00,  6.80it/s]\n",
      "                 Class     Images  Instances      Box(P          R      mAP50  mAP50-95): 100%|██████████| 4/4 [00:00<00:00,  4.97it/s]"
     ]
    },
    {
     "name": "stdout",
     "output_type": "stream",
     "text": [
      "                   all        113        299      0.995      0.997      0.993      0.828\n"
     ]
    },
    {
     "name": "stderr",
     "output_type": "stream",
     "text": [
      "\n"
     ]
    },
    {
     "name": "stdout",
     "output_type": "stream",
     "text": [
      "\n",
      "      Epoch    GPU_mem   box_loss   cls_loss   dfl_loss  Instances       Size\n"
     ]
    },
    {
     "name": "stderr",
     "output_type": "stream",
     "text": [
      "      36/50       2.3G     0.7069     0.4155      1.021          3        640: 100%|██████████| 29/29 [00:04<00:00,  6.57it/s]\n",
      "                 Class     Images  Instances      Box(P          R      mAP50  mAP50-95): 100%|██████████| 4/4 [00:00<00:00,  4.78it/s]"
     ]
    },
    {
     "name": "stdout",
     "output_type": "stream",
     "text": [
      "                   all        113        299      0.996      0.997      0.994      0.816\n"
     ]
    },
    {
     "name": "stderr",
     "output_type": "stream",
     "text": [
      "\n"
     ]
    },
    {
     "name": "stdout",
     "output_type": "stream",
     "text": [
      "\n",
      "      Epoch    GPU_mem   box_loss   cls_loss   dfl_loss  Instances       Size\n"
     ]
    },
    {
     "name": "stderr",
     "output_type": "stream",
     "text": [
      "      37/50      2.56G      0.689     0.4111      1.011          8        640: 100%|██████████| 29/29 [00:04<00:00,  6.86it/s]\n",
      "                 Class     Images  Instances      Box(P          R      mAP50  mAP50-95): 100%|██████████| 4/4 [00:00<00:00,  4.87it/s]"
     ]
    },
    {
     "name": "stdout",
     "output_type": "stream",
     "text": [
      "                   all        113        299      0.997      0.993      0.993       0.82\n"
     ]
    },
    {
     "name": "stderr",
     "output_type": "stream",
     "text": [
      "\n"
     ]
    },
    {
     "name": "stdout",
     "output_type": "stream",
     "text": [
      "\n",
      "      Epoch    GPU_mem   box_loss   cls_loss   dfl_loss  Instances       Size\n"
     ]
    },
    {
     "name": "stderr",
     "output_type": "stream",
     "text": [
      "      38/50      2.37G     0.6466      0.401      1.027          6        640: 100%|██████████| 29/29 [00:04<00:00,  6.91it/s]\n",
      "                 Class     Images  Instances      Box(P          R      mAP50  mAP50-95): 100%|██████████| 4/4 [00:00<00:00,  4.99it/s]"
     ]
    },
    {
     "name": "stdout",
     "output_type": "stream",
     "text": [
      "                   all        113        299      0.996      0.993      0.992      0.815\n"
     ]
    },
    {
     "name": "stderr",
     "output_type": "stream",
     "text": [
      "\n"
     ]
    },
    {
     "name": "stdout",
     "output_type": "stream",
     "text": [
      "\n",
      "      Epoch    GPU_mem   box_loss   cls_loss   dfl_loss  Instances       Size\n"
     ]
    },
    {
     "name": "stderr",
     "output_type": "stream",
     "text": [
      "      39/50       2.4G     0.6598     0.4355      1.024          1        640: 100%|██████████| 29/29 [00:04<00:00,  6.85it/s]\n",
      "                 Class     Images  Instances      Box(P          R      mAP50  mAP50-95): 100%|██████████| 4/4 [00:00<00:00,  4.70it/s]"
     ]
    },
    {
     "name": "stdout",
     "output_type": "stream",
     "text": [
      "                   all        113        299      0.997          1      0.993      0.828\n"
     ]
    },
    {
     "name": "stderr",
     "output_type": "stream",
     "text": [
      "\n"
     ]
    },
    {
     "name": "stdout",
     "output_type": "stream",
     "text": [
      "\n",
      "      Epoch    GPU_mem   box_loss   cls_loss   dfl_loss  Instances       Size\n"
     ]
    },
    {
     "name": "stderr",
     "output_type": "stream",
     "text": [
      "      40/50      2.54G     0.6493     0.4046       1.01          4        640: 100%|██████████| 29/29 [00:04<00:00,  6.64it/s]\n",
      "                 Class     Images  Instances      Box(P          R      mAP50  mAP50-95): 100%|██████████| 4/4 [00:00<00:00,  4.86it/s]"
     ]
    },
    {
     "name": "stdout",
     "output_type": "stream",
     "text": [
      "                   all        113        299      0.993      0.994      0.995      0.831\n"
     ]
    },
    {
     "name": "stderr",
     "output_type": "stream",
     "text": [
      "\n"
     ]
    },
    {
     "name": "stdout",
     "output_type": "stream",
     "text": [
      "Closing dataloader mosaic\n",
      "\n",
      "      Epoch    GPU_mem   box_loss   cls_loss   dfl_loss  Instances       Size\n"
     ]
    },
    {
     "name": "stderr",
     "output_type": "stream",
     "text": [
      "      41/50      2.45G      0.608     0.3701     0.9778          1        640: 100%|██████████| 29/29 [00:04<00:00,  6.44it/s]\n",
      "                 Class     Images  Instances      Box(P          R      mAP50  mAP50-95): 100%|██████████| 4/4 [00:00<00:00,  4.99it/s]"
     ]
    },
    {
     "name": "stdout",
     "output_type": "stream",
     "text": [
      "                   all        113        299      0.986          1      0.994      0.802\n"
     ]
    },
    {
     "name": "stderr",
     "output_type": "stream",
     "text": [
      "\n"
     ]
    },
    {
     "name": "stdout",
     "output_type": "stream",
     "text": [
      "\n",
      "      Epoch    GPU_mem   box_loss   cls_loss   dfl_loss  Instances       Size\n"
     ]
    },
    {
     "name": "stderr",
     "output_type": "stream",
     "text": [
      "      42/50      2.39G     0.5637     0.3262      0.962          3        640: 100%|██████████| 29/29 [00:04<00:00,  6.66it/s]\n",
      "                 Class     Images  Instances      Box(P          R      mAP50  mAP50-95): 100%|██████████| 4/4 [00:00<00:00,  4.67it/s]"
     ]
    },
    {
     "name": "stdout",
     "output_type": "stream",
     "text": [
      "                   all        113        299      0.987       0.99      0.995      0.792\n"
     ]
    },
    {
     "name": "stderr",
     "output_type": "stream",
     "text": [
      "\n"
     ]
    },
    {
     "name": "stdout",
     "output_type": "stream",
     "text": [
      "\n",
      "      Epoch    GPU_mem   box_loss   cls_loss   dfl_loss  Instances       Size\n"
     ]
    },
    {
     "name": "stderr",
     "output_type": "stream",
     "text": [
      "      43/50       2.4G     0.5888      0.321     0.9668          1        640: 100%|██████████| 29/29 [00:04<00:00,  6.85it/s]\n",
      "                 Class     Images  Instances      Box(P          R      mAP50  mAP50-95): 100%|██████████| 4/4 [00:00<00:00,  4.83it/s]"
     ]
    },
    {
     "name": "stdout",
     "output_type": "stream",
     "text": [
      "                   all        113        299       0.99          1      0.995       0.82\n"
     ]
    },
    {
     "name": "stderr",
     "output_type": "stream",
     "text": [
      "\n"
     ]
    },
    {
     "name": "stdout",
     "output_type": "stream",
     "text": [
      "\n",
      "      Epoch    GPU_mem   box_loss   cls_loss   dfl_loss  Instances       Size\n"
     ]
    },
    {
     "name": "stderr",
     "output_type": "stream",
     "text": [
      "      44/50       2.4G     0.5793     0.3163     0.9584          1        640: 100%|██████████| 29/29 [00:04<00:00,  6.73it/s]\n",
      "                 Class     Images  Instances      Box(P          R      mAP50  mAP50-95): 100%|██████████| 4/4 [00:00<00:00,  4.67it/s]"
     ]
    },
    {
     "name": "stdout",
     "output_type": "stream",
     "text": [
      "                   all        113        299      0.999      0.993      0.995       0.82\n"
     ]
    },
    {
     "name": "stderr",
     "output_type": "stream",
     "text": [
      "\n"
     ]
    },
    {
     "name": "stdout",
     "output_type": "stream",
     "text": [
      "\n",
      "      Epoch    GPU_mem   box_loss   cls_loss   dfl_loss  Instances       Size\n"
     ]
    },
    {
     "name": "stderr",
     "output_type": "stream",
     "text": [
      "      45/50      2.45G     0.5988     0.3077     0.9912          1        640: 100%|██████████| 29/29 [00:04<00:00,  6.86it/s]\n",
      "                 Class     Images  Instances      Box(P          R      mAP50  mAP50-95): 100%|██████████| 4/4 [00:00<00:00,  4.77it/s]"
     ]
    },
    {
     "name": "stdout",
     "output_type": "stream",
     "text": [
      "                   all        113        299      0.998      0.993      0.995      0.828\n"
     ]
    },
    {
     "name": "stderr",
     "output_type": "stream",
     "text": [
      "\n"
     ]
    },
    {
     "name": "stdout",
     "output_type": "stream",
     "text": [
      "\n",
      "      Epoch    GPU_mem   box_loss   cls_loss   dfl_loss  Instances       Size\n"
     ]
    },
    {
     "name": "stderr",
     "output_type": "stream",
     "text": [
      "      46/50      2.45G     0.5881     0.3065     0.9453          1        640: 100%|██████████| 29/29 [00:04<00:00,  6.79it/s]\n",
      "                 Class     Images  Instances      Box(P          R      mAP50  mAP50-95): 100%|██████████| 4/4 [00:00<00:00,  5.00it/s]"
     ]
    },
    {
     "name": "stdout",
     "output_type": "stream",
     "text": [
      "                   all        113        299          1      0.993      0.995      0.844\n"
     ]
    },
    {
     "name": "stderr",
     "output_type": "stream",
     "text": [
      "\n"
     ]
    },
    {
     "name": "stdout",
     "output_type": "stream",
     "text": [
      "\n",
      "      Epoch    GPU_mem   box_loss   cls_loss   dfl_loss  Instances       Size\n"
     ]
    },
    {
     "name": "stderr",
     "output_type": "stream",
     "text": [
      "      47/50      2.34G     0.5596     0.2983     0.9419          1        640: 100%|██████████| 29/29 [00:04<00:00,  6.75it/s]\n",
      "                 Class     Images  Instances      Box(P          R      mAP50  mAP50-95): 100%|██████████| 4/4 [00:00<00:00,  4.82it/s]"
     ]
    },
    {
     "name": "stdout",
     "output_type": "stream",
     "text": [
      "                   all        113        299          1      0.996      0.995      0.842\n"
     ]
    },
    {
     "name": "stderr",
     "output_type": "stream",
     "text": [
      "\n"
     ]
    },
    {
     "name": "stdout",
     "output_type": "stream",
     "text": [
      "\n",
      "      Epoch    GPU_mem   box_loss   cls_loss   dfl_loss  Instances       Size\n"
     ]
    },
    {
     "name": "stderr",
     "output_type": "stream",
     "text": [
      "      48/50       2.4G     0.5475     0.2963       0.94          1        640: 100%|██████████| 29/29 [00:04<00:00,  6.66it/s]\n",
      "                 Class     Images  Instances      Box(P          R      mAP50  mAP50-95): 100%|██████████| 4/4 [00:00<00:00,  4.61it/s]"
     ]
    },
    {
     "name": "stdout",
     "output_type": "stream",
     "text": [
      "                   all        113        299          1      0.997      0.995      0.842\n"
     ]
    },
    {
     "name": "stderr",
     "output_type": "stream",
     "text": [
      "\n"
     ]
    },
    {
     "name": "stdout",
     "output_type": "stream",
     "text": [
      "\n",
      "      Epoch    GPU_mem   box_loss   cls_loss   dfl_loss  Instances       Size\n"
     ]
    },
    {
     "name": "stderr",
     "output_type": "stream",
     "text": [
      "      49/50      2.33G     0.6096     0.3118      1.018          1        640: 100%|██████████| 29/29 [00:04<00:00,  6.77it/s]\n",
      "                 Class     Images  Instances      Box(P          R      mAP50  mAP50-95): 100%|██████████| 4/4 [00:00<00:00,  4.82it/s]"
     ]
    },
    {
     "name": "stdout",
     "output_type": "stream",
     "text": [
      "                   all        113        299      0.999      0.997      0.995       0.84\n"
     ]
    },
    {
     "name": "stderr",
     "output_type": "stream",
     "text": [
      "\n"
     ]
    },
    {
     "name": "stdout",
     "output_type": "stream",
     "text": [
      "\n",
      "      Epoch    GPU_mem   box_loss   cls_loss   dfl_loss  Instances       Size\n"
     ]
    },
    {
     "name": "stderr",
     "output_type": "stream",
     "text": [
      "      50/50      2.39G     0.5366     0.2869     0.9352          1        640: 100%|██████████| 29/29 [00:04<00:00,  6.65it/s]\n",
      "                 Class     Images  Instances      Box(P          R      mAP50  mAP50-95): 100%|██████████| 4/4 [00:00<00:00,  4.86it/s]"
     ]
    },
    {
     "name": "stdout",
     "output_type": "stream",
     "text": [
      "                   all        113        299      0.999      0.997      0.995      0.838\n"
     ]
    },
    {
     "name": "stderr",
     "output_type": "stream",
     "text": [
      "\n"
     ]
    },
    {
     "name": "stdout",
     "output_type": "stream",
     "text": [
      "\n",
      "50 epochs completed in 0.095 hours.\n",
      "Optimizer stripped from runs\\detect\\train2\\weights\\last.pt, 6.2MB\n",
      "Optimizer stripped from runs\\detect\\train2\\weights\\best.pt, 6.2MB\n",
      "\n",
      "Validating runs\\detect\\train2\\weights\\best.pt...\n",
      "Ultralytics 8.3.52  Python-3.11.5 torch-2.5.1+cu118 CUDA:0 (NVIDIA GeForce RTX 3070 Ti, 8192MiB)\n",
      "Model summary (fused): 168 layers, 3,005,843 parameters, 0 gradients, 8.1 GFLOPs\n"
     ]
    },
    {
     "name": "stderr",
     "output_type": "stream",
     "text": [
      "                 Class     Images  Instances      Box(P          R      mAP50  mAP50-95): 100%|██████████| 4/4 [00:01<00:00,  3.00it/s]\n"
     ]
    },
    {
     "name": "stdout",
     "output_type": "stream",
     "text": [
      "                   all        113        299          1      0.993      0.995      0.843\n",
      "Speed: 0.2ms preprocess, 1.3ms inference, 0.0ms loss, 2.7ms postprocess per image\n",
      "Results saved to \u001b[1mruns\\detect\\train2\u001b[0m\n"
     ]
    }
   ],
   "source": [
    "from ultralytics import YOLO\n",
    "\n",
    "model = YOLO(\"yolov8n.pt\")\n",
    "\n",
    "result = model.train(data='dataset2/data.yaml', epochs=50, imgsz=640)"
   ]
  },
  {
   "cell_type": "code",
   "execution_count": 11,
   "metadata": {},
   "outputs": [
    {
     "name": "stdout",
     "output_type": "stream",
     "text": [
      "Model summary (fused): 218 layers, 25,840,339 parameters, 0 gradients, 78.7 GFLOPs\n"
     ]
    }
   ],
   "source": [
    "import cv2\n",
    "from ultralytics import YOLO\n",
    "import random\n",
    "\n",
    "\n",
    "def process_video_with_tracking(model, input_video_path, show_video=True, save_video=False, output_video_path=\"./valid_video/output.mp4\"):\n",
    "    # Open the input video file\n",
    "    cap = cv2.VideoCapture(input_video_path)\n",
    "\n",
    "    if not cap.isOpened():\n",
    "        raise Exception(\"Error: Could not open video file.\")\n",
    "\n",
    "    # Get input video frame rate and dimensions\n",
    "    fps = int(cap.get(cv2.CAP_PROP_FPS))\n",
    "    frame_width = int(cap.get(cv2.CAP_PROP_FRAME_WIDTH))\n",
    "    frame_height = int(cap.get(cv2.CAP_PROP_FRAME_HEIGHT))\n",
    "\n",
    "    # Define the output video writer\n",
    "    if save_video:\n",
    "        fourcc = cv2.VideoWriter_fourcc(*'mp4v')\n",
    "        out = cv2.VideoWriter(output_video_path, fourcc, fps, (frame_width, frame_height))\n",
    "\n",
    "    while True:\n",
    "        ret, frame = cap.read()\n",
    "        if not ret:\n",
    "            break\n",
    "        results = model.track(frame, iou=0.4, conf=0.5, persist=True, imgsz=608, verbose=False, tracker=\"botsort.yaml\")\n",
    "\n",
    "        if results[0].boxes.id != None: # this will ensure that id is not None -> exist tracks\n",
    "            boxes = results[0].boxes.xyxy.cpu().numpy().astype(int)\n",
    "            ids = results[0].boxes.id.cpu().numpy().astype(int)\n",
    "\n",
    "            for box, id in zip(boxes, ids):\n",
    "                # Generate a random color for each object based on its ID\n",
    "                random.seed(int(id))\n",
    "                color = (random.randint(0, 255), random.randint(0, 255), random.randint(0, 255))\n",
    "                \n",
    "                cv2.rectangle(frame, (box[0], box[1]), (box[2], box[3],), color, 2)\n",
    "                cv2.putText(\n",
    "                    frame,\n",
    "                    f\"Id {id}\",\n",
    "                    (box[0], box[1]),\n",
    "                    cv2.FONT_HERSHEY_SIMPLEX,\n",
    "                    0.5,\n",
    "                    (0, 255, 255),\n",
    "                    2,\n",
    "                )\n",
    "        \n",
    "        if save_video:\n",
    "            out.write(frame)\n",
    "\n",
    "        if show_video:\n",
    "            frame = cv2.resize(frame, (0, 0), fx=0.75, fy=0.75)\n",
    "            cv2.imshow(\"frame\", frame)\n",
    "\n",
    "        if cv2.waitKey(1) & 0xFF == ord(\"q\"):\n",
    "            break\n",
    "\n",
    "    # Release the input video capture and output video writer\n",
    "    cap.release()\n",
    "    if save_video:\n",
    "        out.release()\n",
    "\n",
    "    # Close all OpenCV windows\n",
    "    cv2.destroyAllWindows()\n",
    "\n",
    "# Example usage:\n",
    "model = YOLO('runs/detect/train/weights/best.pt')\n",
    "model.fuse()\n",
    "process_video_with_tracking(model, \"./valid_video/video2.mp4\", show_video=True, save_video=False, output_video_path=\"output_video.mp4\")\n"
   ]
  },
  {
   "cell_type": "code",
   "execution_count": null,
   "metadata": {},
   "outputs": [],
   "source": [
    "import cv2\n",
    "from ultralytics import YOLO\n",
    "from pyzbar.pyzbar import decode\n",
    "import numpy as np\n",
    "import random\n",
    "\n",
    "def process_video_with_qr_detection(model, input_video_path, show_video=True, save_video=False, output_video_path=\"./valid_video/output.mp4\"):\n",
    "    # Открытие входного видеофайла\n",
    "    cap = cv2.VideoCapture(input_video_path)\n",
    "\n",
    "    if not cap.isOpened():\n",
    "        raise Exception(\"Ошибка: не удалось открыть видеофайл.\")\n",
    "\n",
    "    # Получение параметров видео\n",
    "    fps = int(cap.get(cv2.CAP_PROP_FPS))\n",
    "    frame_width = int(cap.get(cv2.CAP_PROP_FRAME_WIDTH))\n",
    "    frame_height = int(cap.get(cv2.CAP_PROP_FRAME_HEIGHT))\n",
    "\n",
    "    # Настройка записи выходного видео\n",
    "    if save_video:\n",
    "        fourcc = cv2.VideoWriter_fourcc(*'mp4v')\n",
    "        out = cv2.VideoWriter(output_video_path, fourcc, fps, (frame_width, frame_height))\n",
    "\n",
    "    while True:\n",
    "        ret, frame = cap.read()\n",
    "        if not ret:\n",
    "            break\n",
    "\n",
    "        # Обнаружение объектов на текущем кадре\n",
    "        results = model.track(frame, iou=0.4, conf=0.5, persist=True, imgsz=608, verbose=False, tracker=\"botsort.yaml\")\n",
    "\n",
    "        # Проверка наличия обнаруженных объектов\n",
    "        if results[0].boxes is not None:\n",
    "            boxes = results[0].boxes.xyxy.cpu().numpy().astype(int)\n",
    "            ids = results[0].boxes.id.cpu().numpy().astype(int)\n",
    "\n",
    "            \n",
    "            for box, id in zip(boxes, ids):\n",
    "                # Извлечение координат ограничивающего прямоугольника\n",
    "                x1, y1, x2, y2 = box\n",
    "\n",
    "                # Увеличение области вокруг обнаруженного QR-кода\n",
    "                padding = 10  # Можно настроить в зависимости от ситуации\n",
    "                x1 = max(0, x1 - padding)\n",
    "                y1 = max(0, y1 - padding)\n",
    "                x2 = min(frame.shape[1], x2 + padding)\n",
    "                y2 = min(frame.shape[0], y2 + padding)\n",
    "\n",
    "                # Вырезка и увеличение области с QR-кодом\n",
    "                qr_region = frame[y1:y2, x1:x2]\n",
    "                #qr_region = cv2.resize(qr_region, None, fx=2, fy=2, interpolation=cv2.INTER_LINEAR)\n",
    "\n",
    "                # Декодирование QR-кода\n",
    "                decoded_objects = decode(qr_region)\n",
    "\n",
    "                for obj in decoded_objects:\n",
    "                    qr_data = obj.data.decode('utf-8')\n",
    "\n",
    "                    # Отображение информации на кадре\n",
    "                    cv2.rectangle(frame, (x1, y1), (x2, y2), (0, 255, 0), 2)\n",
    "                    cv2.putText(frame, qr_data, (x1, y1 - 10), cv2.FONT_HERSHEY_SIMPLEX, 0.5, (0, 255, 0), 2)\n",
    "\n",
    "        # Запись кадра в выходной файл\n",
    "        if save_video:\n",
    "            out.write(frame)\n",
    "\n",
    "        # Отображение видео в реальном времени\n",
    "        if show_video:\n",
    "            cv2.imshow(\"Видео с обнаружением QR-кодов\", frame)\n",
    "            if cv2.waitKey(1) & 0xFF == ord(\"q\"):\n",
    "                break\n",
    "\n",
    "    # Освобождение ресурсов\n",
    "    cap.release()\n",
    "    if save_video:\n",
    "        out.release()\n",
    "    cv2.destroyAllWindows()\n",
    "\n",
    "# Пример использования:\n",
    "model = YOLO('runs/detect/train/weights/best.pt')\n",
    "model.fuse()\n",
    "process_video_with_qr_detection(model, \"./valid_video/video2.mp4\", show_video=True, save_video=False, output_video_path=\"./valid_video/output_video.mp4\")\n"
   ]
  },
  {
   "cell_type": "code",
   "execution_count": null,
   "metadata": {},
   "outputs": [],
   "source": [
    "import cv2\n",
    "from ultralytics import YOLO\n",
    "from pyzbar.pyzbar import decode\n",
    "import numpy as np\n",
    "\n",
    "def process_video_with_qr_detection(model, input_video_path, show_video=True, save_video=False, output_video_path=\"./valid_video/output.mp4\"):\n",
    "    # Открытие входного видеофайла\n",
    "    cap = cv2.VideoCapture(input_video_path)\n",
    "\n",
    "    if not cap.isOpened():\n",
    "        raise Exception(\"Ошибка: не удалось открыть видеофайл.\")\n",
    "\n",
    "    # Получение параметров видео\n",
    "    fps = int(cap.get(cv2.CAP_PROP_FPS))\n",
    "    frame_width = int(cap.get(cv2.CAP_PROP_FRAME_WIDTH))\n",
    "    frame_height = int(cap.get(cv2.CAP_PROP_FRAME_HEIGHT))\n",
    "\n",
    "    # Настройка записи выходного видео\n",
    "    if save_video:\n",
    "        fourcc = cv2.VideoWriter_fourcc(*'mp4v')\n",
    "        out = cv2.VideoWriter(output_video_path, fourcc, fps, (frame_width, frame_height))\n",
    "\n",
    "    while True:\n",
    "        ret, frame = cap.read()\n",
    "        if not ret:\n",
    "            break\n",
    "\n",
    "        # Обнаружение объектов на текущем кадре\n",
    "        results = model.track(frame, iou=0.4, conf=0.5, persist=True, imgsz=608, verbose=False, tracker=\"botsort.yaml\")\n",
    "\n",
    "        # Проверка наличия обнаруженных объектов\n",
    "        if results[0].boxes is not None:\n",
    "            print(1)\n",
    "            boxes = results[0].boxes.xyxy.cpu().numpy().astype(int)\n",
    "\n",
    "            for box in boxes:\n",
    "                # Извлечение координат ограничивающего прямоугольника\n",
    "                x1, y1, x2, y2 = box\n",
    "\n",
    "                # Увеличение области вокруг обнаруженного QR-кода\n",
    "                padding = 10  # Можно настроить в зависимости от ситуации\n",
    "                x1 = max(0, x1 - padding)\n",
    "                y1 = max(0, y1 - padding)\n",
    "                x2 = min(frame.shape[1], x2 + padding)\n",
    "                y2 = min(frame.shape[0], y2 + padding)\n",
    "\n",
    "                # Вырезка области с QR-кодом\n",
    "                qr_region = frame[y1:y2, x1:x2]\n",
    "\n",
    "                # Предобработка изображения для улучшения распознавания\n",
    "                # Преобразование в градации серого\n",
    "                gray_qr = cv2.cvtColor(qr_region, cv2.COLOR_BGR2GRAY)\n",
    "\n",
    "                # Увеличение контрастности\n",
    "                alpha = 2.0  # Коэффициент контрастности\n",
    "                beta = -160  # Смещение яркости\n",
    "                enhanced_qr = cv2.convertScaleAbs(gray_qr, alpha=alpha, beta=beta)\n",
    "\n",
    "                # Применение бинаризации\n",
    "                _, binary_qr = cv2.threshold(enhanced_qr, 0, 255, cv2.THRESH_BINARY + cv2.THRESH_OTSU)\n",
    "\n",
    "                # Декодирование QR-кода\n",
    "                decoded_objects = decode(binary_qr)\n",
    "\n",
    "                for obj in decoded_objects:\n",
    "                    qr_data = obj.data.decode('utf-8')\n",
    "\n",
    "                    # Отображение информации на кадре\n",
    "                    cv2.rectangle(frame, (x1, y1), (x2, y2), (0, 255, 0), 2)\n",
    "                    cv2.putText(frame, qr_data, (x1, y1 - 10), cv2.FONT_HERSHEY_SIMPLEX, 0.5, (0, 255, 0), 2)\n",
    "\n",
    "        # Запись кадра в выходной файл\n",
    "        if save_video:\n",
    "            out.write(frame)\n",
    "\n",
    "        # Отображение видео в реальном времени\n",
    "        if show_video:\n",
    "            cv2.imshow(\"Видео с обнаружением QR-кодов\", frame)\n",
    "            if cv2.waitKey(1) & 0xFF == ord(\"q\"):\n",
    "                break\n",
    "\n",
    "    # Освобождение ресурсов\n",
    "    cap.release()\n",
    "    if save_video:\n",
    "        out.release()\n",
    "    cv2.destroyAllWindows()\n",
    "\n",
    "# Пример использования:\n",
    "model = YOLO('runs/detect/train/weights/best.pt')\n",
    "model.fuse()\n",
    "process_video_with_qr_detection(model, \"./valid_video/video2.mp4\", show_video=True, save_video=False, output_video_path=\"./valid_video/output_video.mp4\")\n"
   ]
  },
  {
   "cell_type": "code",
   "execution_count": 1,
   "metadata": {},
   "outputs": [],
   "source": [
    "from PIL import Image, ImageDraw, ImageFont\n",
    "import numpy as np\n",
    "\n",
    "def draw_text_with_pillow(image, text, position, font_path, font_size, color):\n",
    "    # Конвертируем изображение из формата OpenCV (BGR) в формат Pillow (RGB)\n",
    "    image_rgb = cv2.cvtColor(image, cv2.COLOR_BGR2RGB)\n",
    "    pil_image = Image.fromarray(image_rgb)\n",
    "\n",
    "    # Создаем объект для рисования\n",
    "    draw = ImageDraw.Draw(pil_image)\n",
    "\n",
    "    # Загружаем шрифт\n",
    "    font = ImageFont.truetype(font_path, font_size)\n",
    "\n",
    "    # Добавляем текст на изображение\n",
    "    draw.text(position, text, font=font, fill=color)\n",
    "\n",
    "    # Конвертируем изображение обратно в формат OpenCV (BGR)\n",
    "    result_image = cv2.cvtColor(np.array(pil_image), cv2.COLOR_RGB2BGR)\n",
    "\n",
    "    return result_image"
   ]
  },
  {
   "cell_type": "code",
   "execution_count": 29,
   "metadata": {},
   "outputs": [
    {
     "name": "stdout",
     "output_type": "stream",
     "text": [
      "Model summary (fused): 168 layers, 3,005,843 parameters, 0 gradients, 8.1 GFLOPs\n"
     ]
    }
   ],
   "source": [
    "import cv2\n",
    "from ultralytics import YOLO\n",
    "from pyzbar.pyzbar import decode\n",
    "import numpy as np\n",
    "import random\n",
    "\n",
    "def process_video_with_qr_detection(model, input_video_path, show_video=True, save_video=False, output_video_path=\"./valid_video/output.mp4\"):\n",
    "    # Открытие входного видеофайла\n",
    "    cap = cv2.VideoCapture(input_video_path)\n",
    "\n",
    "    if not cap.isOpened():\n",
    "        raise Exception(\"Ошибка: не удалось открыть видеофайл.\")\n",
    "\n",
    "    # Получение параметров видео\n",
    "    fps = int(cap.get(cv2.CAP_PROP_FPS))\n",
    "    frame_width = int(cap.get(cv2.CAP_PROP_FRAME_WIDTH))\n",
    "    frame_height = int(cap.get(cv2.CAP_PROP_FRAME_HEIGHT))\n",
    "\n",
    "    # Настройка записи выходного видео\n",
    "    if save_video:\n",
    "        fourcc = cv2.VideoWriter_fourcc(*'mp4v')\n",
    "        out = cv2.VideoWriter(output_video_path, fourcc, fps, (frame_width, frame_height))\n",
    "\n",
    "    while True:\n",
    "        ret, frame = cap.read()\n",
    "        if not ret:\n",
    "            break\n",
    "\n",
    "        # Обнаружение объектов на текущем кадре\n",
    "        results = model.track(frame, iou=0.4, conf=0.5, persist=True, imgsz=416, verbose=False, tracker=\"botsort.yaml\")\n",
    "\n",
    "        # Проверка наличия обнаруженных объектов\n",
    "        if results[0].boxes.id is not None:  # Убедиться, что id не None, т.е. есть треки\n",
    "            boxes = results[0].boxes.xyxy.cpu().numpy().astype(int)\n",
    "            ids = results[0].boxes.id.cpu().numpy().astype(int)\n",
    "\n",
    "            for box, id in zip(boxes, ids):\n",
    "                # Generate a random color for each object based on its ID\n",
    "                random.seed(int(id))\n",
    "                color = (random.randint(0, 255), random.randint(0, 255), random.randint(0, 255))\n",
    "                cv2.rectangle(frame, (box[0], box[1]), (box[2], box[3],), color, 2)\n",
    "\n",
    "                # Извлечение координат ограничивающего прямоугольника\n",
    "                x1, y1, x2, y2 = box\n",
    "\n",
    "                # Увеличение области вокруг обнаруженного QR-кода\n",
    "                padding = 1  # Можно настроить в зависимости от ситуации\n",
    "                x1 = max(0, x1 - padding)\n",
    "                y1 = max(0, y1 - padding)\n",
    "                x2 = min(frame.shape[1], x2 + padding)\n",
    "                y2 = min(frame.shape[0], y2 + padding)\n",
    "\n",
    "                # Вырезка области с QR-кодом\n",
    "                qr_region = frame[y1:y2, x1:x2]\n",
    "                qr_region = cv2.resize(qr_region, None, fx=6, fy=6, interpolation=cv2.INTER_CUBIC)\n",
    "\n",
    "                # # Предобработка изображения для улучшения распознавания\n",
    "                # # Преобразование в градации серого\n",
    "                gray_qr = cv2.cvtColor(qr_region, cv2.COLOR_BGR2GRAY)\n",
    "\n",
    "                # # Увеличение контрастности\n",
    "                alpha = 2.0  # Коэффициент контрастности\n",
    "                beta = -160  # Смещение яркости\n",
    "                enhanced_qr = cv2.convertScaleAbs(gray_qr, alpha=alpha, beta=beta)\n",
    "\n",
    "                # # Применение бинаризации\n",
    "                _, binary_qr = cv2.threshold(enhanced_qr, 0, 255, cv2.THRESH_BINARY + cv2.THRESH_OTSU)\n",
    "\n",
    "                # Декодирование QR-кода\n",
    "                decoded_objects = decode(binary_qr)\n",
    "\n",
    "                for obj in decoded_objects:\n",
    "                    qr_data = obj.data.decode('utf-8')\n",
    "                    color = (random.randint(0, 255), random.randint(0, 255), random.randint(0, 255))\n",
    "                    # Отображение информации на кадре\n",
    "                    # cv2.rectangle(frame, (x1, y1), (x2, y2), (0, 255, 0), 2)\n",
    "                    frame = draw_text_with_pillow(frame, qr_data, (x1, y1 - 20), 'arialmt.ttf', 20, color)\n",
    "\n",
    "        # Запись кадра в выходной файл\n",
    "        if save_video:\n",
    "            out.write(frame)\n",
    "\n",
    "        # Отображение видео в реальном времени\n",
    "        if show_video:\n",
    "            cv2.imshow(\"Видео с обнаружением QR-кодов\", frame)\n",
    "            if cv2.waitKey(1) & 0xFF == ord(\"q\"):\n",
    "                break\n",
    "\n",
    "    # Освобождение ресурсов\n",
    "    cap.release()\n",
    "    if save_video:\n",
    "        out.release()\n",
    "    cv2.destroyAllWindows()\n",
    "\n",
    "# Пример использования:\n",
    "model = YOLO('runs/detect/train2/weights/best.pt')\n",
    "model.fuse()\n",
    "process_video_with_qr_detection(model, \"./valid_video/video2.mp4\", show_video=True, save_video=False, output_video_path=\"./valid_video/output_video.mp4\")\n"
   ]
  },
  {
   "cell_type": "code",
   "execution_count": 3,
   "metadata": {},
   "outputs": [],
   "source": [
    "from PIL import Image, ImageDraw, ImageFont\n",
    "import numpy as np\n",
    "\n",
    "def draw_text_with_pillow(image, text, position, font_path, font_size, color):\n",
    "    # Конвертируем изображение из формата OpenCV (BGR) в формат Pillow (RGB)\n",
    "    image_rgb = cv2.cvtColor(image, cv2.COLOR_BGR2RGB)\n",
    "    pil_image = Image.fromarray(image_rgb)\n",
    "\n",
    "    # Создаем объект для рисования\n",
    "    draw = ImageDraw.Draw(pil_image)\n",
    "\n",
    "    # Загружаем шрифт\n",
    "    font = ImageFont.truetype(font_path, font_size)\n",
    "\n",
    "    # Добавляем текст на изображение\n",
    "    draw.text(position, text, font=font, fill=color)\n",
    "\n",
    "    # Конвертируем изображение обратно в формат OpenCV (BGR)\n",
    "    result_image = cv2.cvtColor(np.array(pil_image), cv2.COLOR_RGB2BGR)\n",
    "\n",
    "    return result_image"
   ]
  },
  {
   "cell_type": "code",
   "execution_count": 11,
   "metadata": {},
   "outputs": [
    {
     "ename": "NameError",
     "evalue": "name 'frameM' is not defined",
     "output_type": "error",
     "traceback": [
      "\u001b[1;31m---------------------------------------------------------------------------\u001b[0m",
      "\u001b[1;31mNameError\u001b[0m                                 Traceback (most recent call last)",
      "Cell \u001b[1;32mIn[11], line 129\u001b[0m\n\u001b[0;32m    127\u001b[0m model \u001b[38;5;241m=\u001b[39m YOLO(\u001b[38;5;124m'\u001b[39m\u001b[38;5;124mruns/detect/train2/weights/best.pt\u001b[39m\u001b[38;5;124m'\u001b[39m)\n\u001b[0;32m    128\u001b[0m \u001b[38;5;66;03m# model.fuse()\u001b[39;00m\n\u001b[1;32m--> 129\u001b[0m \u001b[43mprocess_video_with_qr_detection\u001b[49m\u001b[43m(\u001b[49m\u001b[43mmodel\u001b[49m\u001b[43m,\u001b[49m\u001b[43m \u001b[49m\u001b[38;5;124;43m\"\u001b[39;49m\u001b[38;5;124;43m./valid_video/video2.mp4\u001b[39;49m\u001b[38;5;124;43m\"\u001b[39;49m\u001b[43m,\u001b[49m\u001b[43m \u001b[49m\u001b[43mshow_video\u001b[49m\u001b[38;5;241;43m=\u001b[39;49m\u001b[38;5;28;43;01mTrue\u001b[39;49;00m\u001b[43m,\u001b[49m\u001b[43m \u001b[49m\u001b[43msave_video\u001b[49m\u001b[38;5;241;43m=\u001b[39;49m\u001b[38;5;28;43;01mFalse\u001b[39;49;00m\u001b[43m,\u001b[49m\u001b[43m \u001b[49m\u001b[43moutput_video_path\u001b[49m\u001b[38;5;241;43m=\u001b[39;49m\u001b[38;5;124;43m\"\u001b[39;49m\u001b[38;5;124;43m./valid_video/output_video.mp4\u001b[39;49m\u001b[38;5;124;43m\"\u001b[39;49m\u001b[43m)\u001b[49m\n",
      "Cell \u001b[1;32mIn[11], line 45\u001b[0m, in \u001b[0;36mprocess_video_with_qr_detection\u001b[1;34m(model, input_video_path, show_video, save_video, output_video_path)\u001b[0m\n\u001b[0;32m     35\u001b[0m h \u001b[38;5;241m=\u001b[39m frame\u001b[38;5;241m.\u001b[39mshape[\u001b[38;5;241m0\u001b[39m]\n\u001b[0;32m     36\u001b[0m \u001b[38;5;66;03m# frameM = cv2.cvtColor(frame, cv2.COLOR_BGR2GRAY)\u001b[39;00m\n\u001b[0;32m     37\u001b[0m \u001b[38;5;66;03m# frameM = cv2.merge([frameM, frameM, frameM])\u001b[39;00m\n\u001b[0;32m     38\u001b[0m \u001b[38;5;66;03m# frameM = cv2.addWeighted(frameM, 2, frameM, -1, 0)\u001b[39;00m\n\u001b[1;32m   (...)\u001b[0m\n\u001b[0;32m     43\u001b[0m \n\u001b[0;32m     44\u001b[0m \u001b[38;5;66;03m# Обнаружение объектов на текущем кадре\u001b[39;00m\n\u001b[1;32m---> 45\u001b[0m results \u001b[38;5;241m=\u001b[39m model\u001b[38;5;241m.\u001b[39mtrack(\u001b[43mframeM\u001b[49m, iou\u001b[38;5;241m=\u001b[39m\u001b[38;5;241m0.4\u001b[39m, conf\u001b[38;5;241m=\u001b[39m\u001b[38;5;241m0.5\u001b[39m, persist\u001b[38;5;241m=\u001b[39m\u001b[38;5;28;01mTrue\u001b[39;00m, imgsz\u001b[38;5;241m=\u001b[39m\u001b[38;5;241m640\u001b[39m, verbose\u001b[38;5;241m=\u001b[39m\u001b[38;5;28;01mFalse\u001b[39;00m, tracker\u001b[38;5;241m=\u001b[39m\u001b[38;5;124m\"\u001b[39m\u001b[38;5;124mbotsort.yaml\u001b[39m\u001b[38;5;124m\"\u001b[39m)\n\u001b[0;32m     47\u001b[0m \u001b[38;5;28;01mif\u001b[39;00m np\u001b[38;5;241m.\u001b[39mall(frame \u001b[38;5;241m==\u001b[39m \u001b[38;5;241m0\u001b[39m):  \u001b[38;5;66;03m# Если все пиксели равны 0\u001b[39;00m\n\u001b[0;32m     48\u001b[0m     becs_ids \u001b[38;5;241m=\u001b[39m []\n",
      "\u001b[1;31mNameError\u001b[0m: name 'frameM' is not defined"
     ]
    }
   ],
   "source": [
    "import cv2\n",
    "from ultralytics import YOLO\n",
    "from pyzbar.pyzbar import decode\n",
    "import numpy as np\n",
    "import random\n",
    "\n",
    "def process_video_with_qr_detection(model, input_video_path, show_video=True, save_video=False, output_video_path=\"./valid_video/output.mp4\"):\n",
    "    # Открытие входного видеофайла\n",
    "    cap = cv2.VideoCapture(input_video_path)\n",
    "\n",
    "\n",
    "    becs_ids = []\n",
    "    becs_datas = []\n",
    "    becs_boxes = []\n",
    "    count_frames = 0\n",
    "    if not cap.isOpened():\n",
    "        raise Exception(\"Ошибка: не удалось открыть видеофайл.\")\n",
    "\n",
    "    # Получение параметров видео\n",
    "    fps = int(cap.get(cv2.CAP_PROP_FPS))\n",
    "    frame_width = int(cap.get(cv2.CAP_PROP_FRAME_WIDTH))\n",
    "    frame_height = int(cap.get(cv2.CAP_PROP_FRAME_HEIGHT))\n",
    "\n",
    "    # Настройка записи выходного видео\n",
    "    if save_video:\n",
    "        fourcc = cv2.VideoWriter_fourcc(*'mp4v')\n",
    "        out = cv2.VideoWriter(output_video_path, fourcc, fps, (frame_width, frame_height))\n",
    "\n",
    "    while True:\n",
    "        ret, frame = cap.read()\n",
    "        if not ret:\n",
    "            break\n",
    "\n",
    "        w = frame.shape[1]\n",
    "        h = frame.shape[0]\n",
    "        frameM = cv2.cvtColor(frame, cv2.COLOR_BGR2GRAY)\n",
    "        # frameM = cv2.merge([frameM, frameM, frameM])\n",
    "        frameM = cv2.addWeighted(frameM, 2, frameM, -1, 0)\n",
    "        # frameM = cv2.resize(frameM, (int(w * 2), int(h * 2)), interpolation=cv2.INTER_CUBIC)\n",
    "        # frame = cv2.resize(frame, (int(w * 2), int(h * 2)), interpolation=cv2.INTER_CUBIC)\n",
    "\n",
    "\n",
    "\n",
    "        # Обнаружение объектов на текущем кадре\n",
    "        results = model.track(frame, iou=0.4, conf=0.5, persist=True, imgsz=640, verbose=False, tracker=\"botsort.yaml\")\n",
    "\n",
    "        if np.all(frame == 0):  # Если все пиксели равны 0\n",
    "            becs_ids = []\n",
    "            becs_datas = []\n",
    "            becs_boxes = []\n",
    "             # Пропускаем кадр\n",
    "\n",
    "        # Проверка наличия обнаруженных объектов\n",
    "        if results[0].boxes.id is not None:  # Убедиться, что id не None, т.е. есть треки\n",
    "            boxes = results[0].boxes.xyxy.cpu().numpy().astype(int)\n",
    "            ids = results[0].boxes.id.cpu().numpy().astype(int)\n",
    "            \n",
    "            for i, bi in enumerate(becs_ids):\n",
    "                    if bi not in ids:\n",
    "                        random.seed(int(bi))\n",
    "                        color = (random.randint(0, 255), random.randint(0, 255), random.randint(0, 255))\n",
    "                        x1, y1, x2, y2 = becs_boxes[i]\n",
    "                        cv2.rectangle(frame, (x1, y1), (x2, y2), color, 2)\n",
    "                        frame = draw_text_with_pillow(frame, becs_datas[i], (x1, y1 - 20), 'arialmt.ttf', 20, color)\n",
    "                    else:\n",
    "                        becs_boxes[i] = boxes[np.where(ids == bi)][0]\n",
    "\n",
    "            for box, id in zip(boxes, ids):\n",
    "                \n",
    "                # Генерация случайного цвета для каждого объекта на основе его ID\n",
    "                random.seed(int(id))\n",
    "                color = (random.randint(0, 255), random.randint(0, 255), random.randint(0, 255))\n",
    "                \n",
    "                # Извлечение координат ограничивающего прямоугольника\n",
    "                x1, y1, x2, y2 = box\n",
    "\n",
    "                # Вырезка области с QR-кодом\n",
    "                qr_region = frameM[y1:y2, x1:x2]\n",
    "                qr_region = cv2.resize(qr_region, None, fx=3, fy=3, interpolation=cv2.INTER_LINEAR)\n",
    "                # Декодирование QR-кода\n",
    "                decoded_objects = decode(qr_region)\n",
    "                cv2.rectangle(frame, (x1, y1), (x2, y2), color, 2)\n",
    "\n",
    "                \n",
    "\n",
    "                for obj in decoded_objects:\n",
    "                    qr_data = obj.data.decode('utf-8')\n",
    "\n",
    "                    if (qr_data == \"БЭК основной\") and (id not in becs_ids):\n",
    "                        frame = draw_text_with_pillow(frame, qr_data, (x1, y1 - 20), 'arialmt.ttf', 20, color)\n",
    "                        becs_ids.append(id)\n",
    "                        becs_datas.append(qr_data)\n",
    "                        becs_boxes.append(box)\n",
    "\n",
    "                if (len(decoded_objects) == 0) and (id in becs_ids):\n",
    "                    frame = draw_text_with_pillow(frame, qr_data, (x1, y1 - 20), 'arialmt.ttf', 20, color)\n",
    "        else:\n",
    "            for i, bi in enumerate(becs_ids):\n",
    "\n",
    "                        random.seed(int(bi))\n",
    "                        color = (random.randint(0, 255), random.randint(0, 255), random.randint(0, 255))\n",
    "                        x1, y1, x2, y2 = becs_boxes[i]\n",
    "                        cv2.rectangle(frame, (x1, y1), (x2, y2), color, 2)\n",
    "                        frame = draw_text_with_pillow(frame, becs_datas[i], (x1, y1 - 20), 'arialmt.ttf', 20, color)\n",
    "                    \n",
    "\n",
    "        # Запись кадра в выходной файл\n",
    "        if save_video:\n",
    "            out.write(frame)\n",
    "\n",
    "        # Отображение видео в реальном времени\n",
    "        if show_video and (count_frames <= 2):\n",
    "            cv2.imshow(\"Видео с обнаружением QR-кодов\", frame)\n",
    "            count_frames += 1\n",
    "            if cv2.waitKey(1) & 0xFF == ord(\"q\"):\n",
    "                break\n",
    "        else:\n",
    "            count_frames = 0\n",
    "\n",
    "    # Освобождение ресурсов\n",
    "    cap.release()\n",
    "    if save_video:\n",
    "        out.release()\n",
    "    cv2.destroyAllWindows()\n",
    "\n",
    "# Пример использования:\n",
    "model = YOLO('runs/detect/train2/weights/best.pt')\n",
    "# model.fuse()\n",
    "process_video_with_qr_detection(model, \"./valid_video/video2.mp4\", show_video=True, save_video=False, output_video_path=\"./valid_video/output_video.mp4\")\n"
   ]
  },
  {
   "cell_type": "code",
   "execution_count": null,
   "metadata": {},
   "outputs": [],
   "source": []
  },
  {
   "cell_type": "code",
   "execution_count": 30,
   "metadata": {},
   "outputs": [
    {
     "name": "stdout",
     "output_type": "stream",
     "text": [
      "required data:\n"
     ]
    },
    {
     "ename": "",
     "evalue": "",
     "output_type": "error",
     "traceback": [
      "\u001b[1;31mПри выполнении кода в текущей ячейке или предыдущей ячейке ядро аварийно завершило работу. \n",
      "\u001b[1;31mПроверьте код в ячейках, чтобы определить возможную причину сбоя. \n",
      "\u001b[1;31mЩелкните <a href='https://aka.ms/vscodeJupyterKernelCrash'>здесь</a>, чтобы получить дополнительные сведения. \n",
      "\u001b[1;31mПодробнее см. в <a href='command:jupyter.viewOutput'>журнале Jupyter</a>."
     ]
    }
   ],
   "source": [
    "from pyzbar.pyzbar import decode\n",
    "from PIL import Image, ImageFont, ImageDraw\n",
    "import cv2\n",
    "import numpy as np\n",
    "import os.path\n",
    "\n",
    "# img = cv2.imread('./barQr.jpg')\n",
    "\n",
    "print(\"required data:\")\n",
    "# requiredData = \"https://get-qr.com/HIR3F7\"\n",
    "requiredData = \"БЭК основной\"\n",
    "# requiredData = \"*\"\n",
    "requiresData: bool = True\n",
    "\n",
    "lastDecoded = None\n",
    "\n",
    "font = ImageFont.truetype(\"./arialmt.ttf\", 30)\n",
    "\n",
    "cap = cv2.VideoCapture('./valid_video/video3.mp4')\n",
    "\n",
    "frameId = 0\n",
    "\n",
    "while cap.isOpened():\n",
    "    ret, frame = cap.read()\n",
    "    if not ret:\n",
    "        break\n",
    "\n",
    "\n",
    "# i = 0ß\n",
    "    # thresh, frame = cv2.threshold(frame, 128, 255, cv2.THRESH_BINARY | cv2.THRESH_OTSU)\n",
    "    frame = cv2.cvtColor(frame, cv2.COLOR_BGR2GRAY)\n",
    "    frame = cv2.addWeighted(frame, 2, frame, -1, 0)\n",
    "    w = frame.shape[1]\n",
    "    h = frame.shape[0]\n",
    "    frame = cv2.resize(frame, (int(w * 2), int(h * 2)), interpolation=cv2.INTER_CUBIC)\n",
    "\n",
    "    decodedList = decode(frame)\n",
    "\n",
    "    found: bool = False\n",
    "    for d in decodedList:\n",
    "    # if i == 0:\n",
    "        # img = cv2.rectangle(img, (d.rect.left, d.rect.top),\n",
    "        #                     (d.rect.left + d.rect.width, d.rect.top + d.rect.height), (255, 0, 0), 2)\n",
    "        if (requiresData):\n",
    "            if (d.data.decode() == requiredData or requiredData == \"*\"):\n",
    "                frame = cv2.polylines(frame, [np.array(d.polygon)], True, (0, 255, 0), 2)\n",
    "                # frame = cv2.putText(frame, d.data.decode(), (d.rect.left, d.rect.top + d.rect.height),\n",
    "                #                 cv2.FONT_HERSHEY_SIMPLEX, 0.5, (0, 0, 255), 2, cv2.LINE_AA)\n",
    "                framePil = Image.fromarray(frame)\n",
    "                frameDraw = ImageDraw.Draw(framePil)\n",
    "                frameDraw.text((d.rect.left, d.rect.top + d.rect.height), d.data.decode(), font=font, fill=0)\n",
    "                frame = np.array(framePil)\n",
    "\n",
    "                # print(d.data.decode())\n",
    "                lastDecoded = d\n",
    "                found = True\n",
    "    if (found == False and lastDecoded != None):\n",
    "        frame = cv2.polylines(frame, [np.array(lastDecoded.polygon)], True, (0, 255, 0), 2)\n",
    "        frame = cv2.putText(frame, lastDecoded.data.decode(), (lastDecoded.rect.left, lastDecoded.rect.top + lastDecoded.rect.height),\n",
    "                        cv2.FONT_HERSHEY_SIMPLEX, 0.5, (0, 0, 255), 2, cv2.LINE_AA)\n",
    "        framePil = Image.fromarray(frame)\n",
    "        frameDraw = ImageDraw.Draw(framePil)\n",
    "        frameDraw.text((d.rect.left, d.rect.top + d.rect.height), lastDecoded.data.decode(), font=font, fill=0)\n",
    "        frame = np.array(framePil)\n",
    "\n",
    "    # i += 1\n",
    "\n",
    "# print(decodedList[0].data)\n",
    "    # cv2.imwrite('./frames/barframe' + str(frameId) + '.jpg', frame)\n",
    "    cv2.imshow('frame', frame)\n",
    "\n",
    "    frameId += 1\n",
    "\n",
    "cap.release()\n"
   ]
  }
 ],
 "metadata": {
  "kernelspec": {
   "display_name": "haka_venv",
   "language": "python",
   "name": "python3"
  },
  "language_info": {
   "codemirror_mode": {
    "name": "ipython",
    "version": 3
   },
   "file_extension": ".py",
   "mimetype": "text/x-python",
   "name": "python",
   "nbconvert_exporter": "python",
   "pygments_lexer": "ipython3",
   "version": "3.11.5"
  }
 },
 "nbformat": 4,
 "nbformat_minor": 2
}
